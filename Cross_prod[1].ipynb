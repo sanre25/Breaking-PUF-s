{
 "cells": [
  {
   "cell_type": "code",
   "execution_count": 1,
   "id": "d2968031",
   "metadata": {},
   "outputs": [],
   "source": [
    "import numpy as np"
   ]
  },
  {
   "cell_type": "code",
   "execution_count": 2,
   "id": "b283dead",
   "metadata": {},
   "outputs": [
    {
     "name": "stdout",
     "output_type": "stream",
     "text": [
      "[[1 3 8 ... 5 1 2]\n",
      " [9 3 2 ... 1 5 8]\n",
      " [4 9 9 ... 7 9 3]\n",
      " ...\n",
      " [6 5 3 ... 7 2 8]\n",
      " [9 8 7 ... 6 6 5]\n",
      " [5 2 6 ... 2 1 9]]\n"
     ]
    }
   ],
   "source": [
    "# Assuming X is your input array of length 32\n",
    "X = np.random.randint(low = 1, high = 10, size = (1000, 32))  # Example input, replace it with your actual array, \n",
    "X.shape\n",
    "print(X)"
   ]
  },
  {
   "cell_type": "code",
   "execution_count": 3,
   "id": "774e4470",
   "metadata": {},
   "outputs": [
    {
     "data": {
      "text/plain": [
       "496"
      ]
     },
     "execution_count": 3,
     "metadata": {},
     "output_type": "execute_result"
    }
   ],
   "source": [
    "# Get the indices for the upper triangle, avoiding the diagonal\n",
    "i, j = np.triu_indices(len(X[1, ]), k=1)\n",
    "len(i)"
   ]
  },
  {
   "cell_type": "code",
   "execution_count": 4,
   "id": "128e9c35",
   "metadata": {},
   "outputs": [
    {
     "data": {
      "text/plain": [
       "array([[ 3,  8,  6, ...,  5, 10,  2],\n",
       "       [27, 18, 72, ...,  5,  8, 40],\n",
       "       [36, 36, 36, ..., 63, 21, 27],\n",
       "       ...,\n",
       "       [30, 18, 36, ..., 14, 56, 16],\n",
       "       [72, 63,  9, ..., 36, 30, 30],\n",
       "       [10, 30, 45, ...,  2, 18,  9]])"
      ]
     },
     "execution_count": 4,
     "metadata": {},
     "output_type": "execute_result"
    }
   ],
   "source": [
    "# Calculate the pairwise products\n",
    "pairwise_products = X[:, i] * X[:, j]\n",
    "pairwise_products"
   ]
  },
  {
   "cell_type": "code",
   "execution_count": 5,
   "id": "84468272",
   "metadata": {},
   "outputs": [],
   "source": [
    "# Concatenate the original X with the pairwise products\n",
    "phi = np.append(X, pairwise_products, axis = 1)"
   ]
  },
  {
   "cell_type": "code",
   "execution_count": 6,
   "id": "27030538",
   "metadata": {},
   "outputs": [
    {
     "data": {
      "text/plain": [
       "(1000, 528)"
      ]
     },
     "execution_count": 6,
     "metadata": {},
     "output_type": "execute_result"
    }
   ],
   "source": [
    "phi.shape"
   ]
  },
  {
   "cell_type": "code",
   "execution_count": null,
   "id": "660a0d4c",
   "metadata": {},
   "outputs": [],
   "source": [
    "X"
   ]
  }
 ],
 "metadata": {
  "kernelspec": {
   "display_name": "Python 3 (ipykernel)",
   "language": "python",
   "name": "python3"
  },
  "language_info": {
   "codemirror_mode": {
    "name": "ipython",
    "version": 3
   },
   "file_extension": ".py",
   "mimetype": "text/x-python",
   "name": "python",
   "nbconvert_exporter": "python",
   "pygments_lexer": "ipython3",
   "version": "3.11.6"
  }
 },
 "nbformat": 4,
 "nbformat_minor": 5
}
