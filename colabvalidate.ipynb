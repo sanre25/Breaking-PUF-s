{
 "cells": [
  {
   "cell_type": "code",
   "execution_count": 11,
   "id": "c059dd4b-cb8e-405c-bc59-f670e28a6fae",
   "metadata": {},
   "outputs": [],
   "source": [
    "import numpy as np\n",
    "from submit import my_map\n",
    "from submit import my_fit\n",
    "import time as tm"
   ]
  },
  {
   "cell_type": "code",
   "execution_count": 12,
   "id": "e4fabd33-5d38-425b-b1ce-a76f0f52f7a2",
   "metadata": {},
   "outputs": [],
   "source": [
    "Z_trn = np.loadtxt( \"secret_train.dat\" )\n",
    "Z_tst = np.loadtxt( \"secret_test.dat\" )\n",
    "\n",
    "n_trials = 5\n",
    "\n",
    "d_size = 0\n",
    "t_train = 0\n",
    "t_map = 0\n",
    "acc = 0"
   ]
  },
  {
   "cell_type": "code",
   "execution_count": 13,
   "id": "63707575-d50f-4e0c-bfd9-880e9ca15655",
   "metadata": {},
   "outputs": [
    {
     "name": "stdout",
     "output_type": "stream",
     "text": [
      "2.255368999991333\n"
     ]
    }
   ],
   "source": [
    "t_train1 = 0;\n",
    "tic = tm.perf_counter()\n",
    "w, b = my_fit( Z_trn[:, :-1], Z_trn[:,-1] )\n",
    "toc = tm.perf_counter()\n",
    "t_train1 += toc - tic\n",
    "print(t_train1)"
   ]
  },
  {
   "cell_type": "code",
   "execution_count": 14,
   "id": "7f0dbfc2-82a6-4d57-9f07-3d8ed423eadd",
   "metadata": {},
   "outputs": [
    {
     "name": "stdout",
     "output_type": "stream",
     "text": [
      "0.08945159999711905\n"
     ]
    }
   ],
   "source": [
    "tic = tm.perf_counter()\n",
    "feat = my_map( Z_tst[:, :-1] )\n",
    "toc = tm.perf_counter()\n",
    "t_map1 = toc - tic\n",
    "print(t_map1)"
   ]
  },
  {
   "cell_type": "code",
   "execution_count": 15,
   "id": "439eaded",
   "metadata": {},
   "outputs": [
    {
     "name": "stdout",
     "output_type": "stream",
     "text": [
      "0.9919\n"
     ]
    }
   ],
   "source": [
    "scores = feat.dot( w ) + b\n",
    "pred = np.zeros_like( scores )\n",
    "pred[scores > 0] = 1\n",
    "accuracy = np.average( Z_tst[ :, -1 ] == pred )\n",
    "print(accuracy)"
   ]
  },
  {
   "cell_type": "code",
   "execution_count": 16,
   "id": "342db639-0d98-4568-9b0d-750f2da2da1c",
   "metadata": {},
   "outputs": [],
   "source": [
    "for t in range( n_trials ):\n",
    "\ttic = tm.perf_counter()\n",
    "\tw, b = my_fit( Z_trn[:, :-1], Z_trn[:,-1] )\n",
    "\ttoc = tm.perf_counter()\n",
    "\tt_train += toc - tic\n",
    "\n",
    "\td_size += w.shape[0]\n",
    "\n",
    "\ttic = tm.perf_counter()\n",
    "\tfeat = my_map( Z_tst[:, :-1] )\n",
    "\ttoc = tm.perf_counter()\n",
    "\tt_map += toc - tic\n",
    "\n",
    "\tscores = feat.dot( w ) + b\n",
    "\tpred = np.zeros_like( scores )\n",
    "\tpred[scores > 0] = 1\n",
    "\tacc += np.average( Z_tst[ :, -1 ] == pred )"
   ]
  },
  {
   "cell_type": "code",
   "execution_count": 17,
   "id": "2a8b4216-bfa0-4465-87d0-df9c7ae42e94",
   "metadata": {},
   "outputs": [
    {
     "name": "stdout",
     "output_type": "stream",
     "text": [
      "528.0 2.297052379997331 0.07226863999676425 0.008099999999999996\n"
     ]
    }
   ],
   "source": [
    "d_size /= n_trials\n",
    "t_train /= n_trials\n",
    "t_map /= n_trials\n",
    "acc /= n_trials\n",
    "\n",
    "print( d_size, t_train, t_map, 1 - acc )"
   ]
  },
  {
   "cell_type": "code",
   "execution_count": 18,
   "id": "e9c0343d",
   "metadata": {},
   "outputs": [
    {
     "data": {
      "text/plain": [
       "0.9919"
      ]
     },
     "execution_count": 18,
     "metadata": {},
     "output_type": "execute_result"
    }
   ],
   "source": [
    "acc"
   ]
  }
 ],
 "metadata": {
  "kernelspec": {
   "display_name": "Python 3 (ipykernel)",
   "language": "python",
   "name": "python3"
  },
  "language_info": {
   "codemirror_mode": {
    "name": "ipython",
    "version": 3
   },
   "file_extension": ".py",
   "mimetype": "text/x-python",
   "name": "python",
   "nbconvert_exporter": "python",
   "pygments_lexer": "ipython3",
   "version": "3.11.6"
  }
 },
 "nbformat": 4,
 "nbformat_minor": 5
}
